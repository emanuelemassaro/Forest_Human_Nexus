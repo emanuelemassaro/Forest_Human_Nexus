{
 "cells": [
  {
   "cell_type": "code",
   "execution_count": 1,
   "id": "2b9001d2-f727-4c42-890a-4f08e85a25ac",
   "metadata": {},
   "outputs": [
    {
     "name": "stdout",
     "output_type": "stream",
     "text": [
      "MAINPATH is set to: /home/emanuele/Research/APES/Forest_Human_Nexus\n"
     ]
    }
   ],
   "source": [
    "#######################################################################################################\n",
    "import warnings\n",
    "warnings.filterwarnings('ignore')\n",
    "%config InlineBackend.figure_format = 'retina'\n",
    "%matplotlib inline\n",
    "import os\n",
    "import sys\n",
    "\n",
    "# Get the current notebook's directory\n",
    "notebook_dir = os.path.abspath('')\n",
    "# Add the relative path to your Codes directory\n",
    "codes_path = os.path.join(notebook_dir, \"..\", \"Codes\")\n",
    "codes_path = os.path.abspath(codes_path)  # Normalize the path\n",
    "# Add to path if not already there\n",
    "if codes_path not in sys.path:\n",
    "    sys.path.insert(1, codes_path)\n",
    "from myUtils import *"
   ]
  },
  {
   "cell_type": "code",
   "execution_count": 2,
   "id": "693eca90-9ec8-4633-aa79-50399620cff3",
   "metadata": {},
   "outputs": [
    {
     "data": {
      "text/plain": [
       "'/home/emanuele/Research/APES/FHN/Data/OUTPUT/FAC/FAC_{window}_{year}.tif'"
      ]
     },
     "execution_count": 2,
     "metadata": {},
     "output_type": "execute_result"
    }
   ],
   "source": [
    "PATHL = '/home/emanuele/Research/APES/FHN/Data/OUTPUT/FAC/FAC_{window}_{year}.tif'\n",
    "PATHL"
   ]
  },
  {
   "cell_type": "markdown",
   "id": "e701d805-1cdf-4d0d-a1a8-001d43f1f3e7",
   "metadata": {},
   "source": [
    "# 1. Import shapefile"
   ]
  },
  {
   "cell_type": "code",
   "execution_count": 3,
   "id": "0aebc266-94ed-4a37-90e1-2e7596531f54",
   "metadata": {},
   "outputs": [
    {
     "ename": "NameError",
     "evalue": "name 'PATHRESEARCH' is not defined",
     "output_type": "error",
     "traceback": [
      "\u001b[0;31m---------------------------------------------------------------------------\u001b[0m",
      "\u001b[0;31mNameError\u001b[0m                                 Traceback (most recent call last)",
      "Cell \u001b[0;32mIn[3], line 3\u001b[0m\n\u001b[1;32m      1\u001b[0m \u001b[38;5;66;03m# Load shapefile and reproject\u001b[39;00m\n\u001b[1;32m      2\u001b[0m \u001b[38;5;66;03m# Import world boundaries\u001b[39;00m\n\u001b[0;32m----> 3\u001b[0m fName \u001b[38;5;241m=\u001b[39m os\u001b[38;5;241m.\u001b[39mpath\u001b[38;5;241m.\u001b[39mjoin(\u001b[43mPATHRESEARCH\u001b[49m, \u001b[38;5;124m'\u001b[39m\u001b[38;5;124mData/Shapefiles/world-administrative-boundaries.shp\u001b[39m\u001b[38;5;124m'\u001b[39m)\n\u001b[1;32m      4\u001b[0m gdf \u001b[38;5;241m=\u001b[39m gpd\u001b[38;5;241m.\u001b[39mread_file(fName)\n\u001b[1;32m      5\u001b[0m gdf \u001b[38;5;241m=\u001b[39m gdf\u001b[38;5;241m.\u001b[39mto_crs(\u001b[38;5;124m\"\u001b[39m\u001b[38;5;124mESRI:54009\u001b[39m\u001b[38;5;124m\"\u001b[39m)\n",
      "\u001b[0;31mNameError\u001b[0m: name 'PATHRESEARCH' is not defined"
     ]
    }
   ],
   "source": [
    "# Load shapefile and reproject\n",
    "# Import world boundaries\n",
    "fName = os.path.join(PATHRESEARCH, 'Data/Shapefiles/world-administrative-boundaries.shp')\n",
    "gdf = gpd.read_file(fName)\n",
    "gdf = gdf.to_crs(\"ESRI:54009\")"
   ]
  },
  {
   "cell_type": "markdown",
   "id": "e51e262e-bb8e-45d3-8921-27255825073b",
   "metadata": {},
   "source": [
    "# Figure 1A"
   ]
  },
  {
   "cell_type": "code",
   "execution_count": null,
   "id": "2c6797f3-aad7-4ea5-84bf-57d5cf955572",
   "metadata": {},
   "outputs": [],
   "source": [
    "# Figure 1A\n",
    "window = 50\n",
    "year = 2020\n",
    "file_raster_path = PATHL.format(window=window, year=year)\n",
    "\n",
    "data, src = read_raster(file_raster_path)\n",
    "data1 = data * 100  # Convert from km² to Ha\n",
    "\n",
    "# Define colormap for plotting\n",
    "values = [0, 0.001, 0.05, 0.5, 5, 100, 1500, 10000]\n",
    "cmap = plt.get_cmap('terrain_r')\n",
    "n_colors = len(values)\n",
    "colors = [cmap(i / (n_colors - 1)) for i in range(n_colors)]\n",
    "colors[0] = 'gray'\n",
    "cmap, ncolors = ListedColormap(colors), len(colors)\n",
    "norm = BoundaryNorm(values, ncolors=ncolors, clip=True)\n",
    "\n",
    "\n",
    "# Plot Figure 1A\n",
    "fig = plt.figure(figsize=(10, 20))\n",
    "ax = plt.axes(projection=crsplot)\n",
    "ax = set_font(ax, 20)\n",
    "gdf.boundary.plot(ax=ax, color='black', lw=.25)\n",
    "plot_data_maps(ax, data1, cmap, norm, src)\n",
    "\n",
    "legend_patches = [Patch(color=colors[i], label=rf'${values[i]} \\leq FAC < {values[i+1]}$') for i in range(n_colors - 1)]\n",
    "legend_patches.append(Patch(color=colors[-1], label=rf'$FAC \\geq {values[-1]}$'))\n",
    "add_legend(ax, legend_patches, 'FAC range\\n ' + r'$ha \\cdot person^{-1}$')"
   ]
  },
  {
   "cell_type": "markdown",
   "id": "2feef5f4-e7e3-462c-8c54-8c3ee7dee9d5",
   "metadata": {},
   "source": [
    "### 1.1 Save Figure 1A"
   ]
  },
  {
   "cell_type": "code",
   "execution_count": null,
   "id": "74644fa4-1d49-4231-a0e9-ac230f2e40b6",
   "metadata": {},
   "outputs": [],
   "source": [
    "# Save Figure 1A\n",
    "fout = os.path.join(fhn_dir, 'Figures/Figure1A.tiff')\n",
    "fig.savefig(fout, dpi=300, bbox_inches='tight')"
   ]
  },
  {
   "cell_type": "markdown",
   "id": "bd00e31a-14a7-45c0-8154-86c8d94f2114",
   "metadata": {},
   "source": [
    "# Figure 1B"
   ]
  },
  {
   "cell_type": "code",
   "execution_count": null,
   "id": "34398ea1-2e79-43d5-9dfe-aa6c1a5797d0",
   "metadata": {},
   "outputs": [],
   "source": [
    "# Compute relative difference for Figure 1B\n",
    "year = 1975\n",
    "file_raster_path = PATHL.format(window=window, year=year)\n",
    "data, src = read_raster(file_raster_path)\n",
    "data0 = data * 100  # Convert from km² to Ha\n",
    "dataRelDiff = 100 * (data1 - data0) / data0\n",
    "\n",
    "# Plot Figure 1B\n",
    "vmin, vmax = -100, 100\n",
    "fig = plt.figure(figsize=(12, 12))\n",
    "ax = plt.axes(projection=crsplot)\n",
    "ax = set_font(ax, 20)\n",
    "ax.set_extent([-18000000, 18000000, -9000000, 9000000], crs=crsplot)\n",
    "ax.add_feature(cfeature.OCEAN, facecolor='white')\n",
    "ax.add_feature(cfeature.LAND, facecolor='white')\n",
    "gl = ax.gridlines(draw_labels=True, x_inline=False, y_inline=False)\n",
    "gl.ylocator = mticker.FixedLocator([-75, -45, 0, 45, 75])\n",
    "gl.top_labels = False\n",
    "gl.bottom_labels = False\n",
    "gdf.boundary.plot(ax=ax, color='black', lw=.25)\n",
    "show(dataRelDiff, cmap='seismic_r', vmin=vmin, vmax=vmax, ax=ax, transform=src.transform)\n",
    "\n",
    "# Add colorbar to Figure 1B\n",
    "norm = plt.Normalize(vmin=vmin, vmax=vmax)\n",
    "sm = plt.cm.ScalarMappable(cmap='seismic_r', norm=norm)\n",
    "sm.set_array([])\n",
    "cbar = fig.colorbar(sm, ax=ax, extend='both', shrink=0.4, aspect=30)\n",
    "cbar.set_label('FAC [%]', fontsize=13, labelpad=10)\n",
    "cbar.ax.tick_params(labelsize=12)"
   ]
  },
  {
   "cell_type": "markdown",
   "id": "71e91050-fa3c-4985-95ad-652a869d8e2b",
   "metadata": {},
   "source": [
    "### 2.1 Save Figure 1B"
   ]
  },
  {
   "cell_type": "code",
   "execution_count": null,
   "id": "945f0edc-ca58-4e16-9861-84e41bad3a2e",
   "metadata": {},
   "outputs": [],
   "source": [
    "fout = os.path.join(fhn_dir, 'Figures/Figure1B.tiff')\n",
    "fig.savefig(fout, dpi=300, bbox_inches = 'tight')"
   ]
  },
  {
   "cell_type": "markdown",
   "id": "7b468fae-7368-4537-8992-042833ffe932",
   "metadata": {},
   "source": [
    "# 3 Plot Trend"
   ]
  },
  {
   "cell_type": "code",
   "execution_count": null,
   "id": "9a6f0c33-6b3d-42f1-a299-858d6f07ba32",
   "metadata": {},
   "outputs": [],
   "source": [
    "# Define trend\n",
    "dataTrend = (data1 - data0) / (2020-1975)\n",
    "# Define range of values\n",
    "values = [-50, -5, -.05, -0.005, 0, 0.005, 0.05, 5, 50]  \n",
    "\n",
    "# Create a colormap from matplotlib's predefined colormaps\n",
    "cmap = plt.get_cmap('seismic_r')  # You can change 'Blues' to any other colormap name\n",
    "\n",
    "# Generate discrete colors from the colormap\n",
    "n_colors = len(values)+1\n",
    "colors = [cmap(i / (n_colors - 1)) for i in range(n_colors)]\n",
    "\n",
    "# Create colormap and normalization\n",
    "cmap, ncolors = ListedColormap(colors), len(colors)\n",
    "norm = BoundaryNorm(values, ncolors=ncolors, clip=True)\n",
    "\n",
    "fig = plt.figure(figsize=(10, 10))\n",
    "ax = plt.axes(projection=crsplot)\n",
    "ax = set_font(ax, 20)\n",
    "# Plot data\n",
    "gdf.boundary.plot(ax=ax, color='black', lw=.25)\n",
    "plot_data_maps(ax, dataTrend, cmap, norm, src)\n",
    "\n",
    "# Add legend\n",
    "legend_patches = [\n",
    "    Patch(color=colors[0],  label=rf'${values[0]} < FAC < {values[1]}$'),\n",
    "    Patch(color=colors[1], label=rf'${values[1]} \\leq FAC < {values[2]}$'),\n",
    "    Patch(color=colors[2], label=rf'${values[2]} \\leq FAC < {values[3]}$'),\n",
    "    Patch(color=colors[3], label=rf'${values[3]} \\leq FAC < {values[4]}$'),\n",
    "    Patch(color=colors[4],label=rf'${values[4]} \\leq FAC < {values[5]}$'),\n",
    "    Patch(color=colors[5], label=rf'${values[5]} \\leq FAC < {values[6]}$'),\n",
    "    Patch(color=colors[6], label=rf'${values[6]} \\leq FAC < {values[7]}$'),\n",
    "    Patch(color=colors[7],  label=rf'${values[7]} \\leq FAC < {values[8]}$')\n",
    "]\n",
    "title = 'FAC trend\\n ' + r'$ha \\cdot person^{-1} \\cdot year^{-1}$'\n",
    "legend = ax.legend(handles=legend_patches, \n",
    "                   loc='center right', \n",
    "                   bbox_to_anchor=(1.35, 0.5), \n",
    "                   title=title, title_fontsize=14)\n",
    "legend.get_title().set_ha('center')"
   ]
  },
  {
   "cell_type": "code",
   "execution_count": null,
   "id": "af1b7dcb-1d14-45a7-a2de-a63b0c6d7582",
   "metadata": {},
   "outputs": [],
   "source": [
    "fout = os.path.join(fhn_dir, 'Figures/FAC_trend.tiff')\n",
    "fig.savefig(fout, dpi=300, bbox_inches = 'tight')"
   ]
  },
  {
   "cell_type": "code",
   "execution_count": null,
   "id": "c497348c-ca6f-4814-afae-e8f2afb09b26",
   "metadata": {},
   "outputs": [],
   "source": []
  }
 ],
 "metadata": {
  "kernelspec": {
   "display_name": "Python 3 (ipykernel)",
   "language": "python",
   "name": "python3"
  },
  "language_info": {
   "codemirror_mode": {
    "name": "ipython",
    "version": 3
   },
   "file_extension": ".py",
   "mimetype": "text/x-python",
   "name": "python",
   "nbconvert_exporter": "python",
   "pygments_lexer": "ipython3",
   "version": "3.10.12"
  }
 },
 "nbformat": 4,
 "nbformat_minor": 5
}
