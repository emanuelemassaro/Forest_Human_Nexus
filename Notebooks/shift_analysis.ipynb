{
 "cells": [
  {
   "cell_type": "code",
   "execution_count": 1,
   "id": "10bb7a2b-991e-45b8-8df7-385408e66135",
   "metadata": {},
   "outputs": [
    {
     "name": "stdout",
     "output_type": "stream",
     "text": [
      "MAINPATH is set to: /home/emanuele/Research/APES/FHN/\n"
     ]
    }
   ],
   "source": [
    "#######################################################################################################\n",
    "import warnings\n",
    "warnings.filterwarnings('ignore')\n",
    "%config InlineBackend.figure_format = 'retina'\n",
    "%matplotlib inline\n",
    "import os\n",
    "import sys\n",
    "\n",
    "# Get the current notebook's directory\n",
    "notebook_dir = os.path.abspath('')\n",
    "# Add the relative path to your Codes directory\n",
    "codes_path = os.path.join(notebook_dir, \"..\", \"Codes\")\n",
    "codes_path = os.path.abspath(codes_path)  # Normalize the path\n",
    "# Add to path if not already there\n",
    "if codes_path not in sys.path:\n",
    "    sys.path.insert(1, codes_path)\n",
    "from myUtils import *"
   ]
  },
  {
   "cell_type": "code",
   "execution_count": 2,
   "id": "e595d5b4-bf15-4bdb-bd41-ac5751f610e7",
   "metadata": {},
   "outputs": [],
   "source": [
    "# Import world boundaries\n",
    "fName = os.path.join(MAINPATH, 'Data/SHAPEFILES/world-administrative-boundaries.shp')\n",
    "gdf = gpd.read_file(fName)\n",
    "gdf = gdf.to_crs(\"ESRI:54009\")"
   ]
  },
  {
   "cell_type": "code",
   "execution_count": 3,
   "id": "5662c623-7f36-42e0-9cad-6aa08064bc50",
   "metadata": {},
   "outputs": [
    {
     "ename": "NameError",
     "evalue": "name 'returnDF' is not defined",
     "output_type": "error",
     "traceback": [
      "\u001b[0;31m---------------------------------------------------------------------------\u001b[0m",
      "\u001b[0;31mNameError\u001b[0m                                 Traceback (most recent call last)",
      "Cell \u001b[0;32mIn[3], line 2\u001b[0m\n\u001b[1;32m      1\u001b[0m \u001b[38;5;66;03m# Import FHN data #\u001b[39;00m\n\u001b[0;32m----> 2\u001b[0m df5 \u001b[38;5;241m=\u001b[39m \u001b[43mreturnDF\u001b[49m()   \u001b[38;5;66;03m###### \u001b[39;00m\n",
      "\u001b[0;31mNameError\u001b[0m: name 'returnDF' is not defined"
     ]
    }
   ],
   "source": [
    "# Import FHN data #\n",
    "df5 = returnDF()   ###### "
   ]
  },
  {
   "cell_type": "code",
   "execution_count": null,
   "id": "e9b9d54e-dc6e-46b5-8fc3-12791c87cbd9",
   "metadata": {},
   "outputs": [],
   "source": [
    "df5.head()"
   ]
  },
  {
   "cell_type": "code",
   "execution_count": null,
   "id": "057ec538-a1b9-464d-8fa1-ba1a63d8c5f3",
   "metadata": {},
   "outputs": [],
   "source": [
    "f,axs=plt.subplots(1,3, figsize=(15,3))\n",
    "ax=axs[0]\n",
    "df_std = df5.groupby('year')['mean'].mean().reset_index()\n",
    "df_std.plot(x='year', y='mean', ax=ax)\n",
    "\n",
    "ax=axs[1]\n",
    "df_std = df5.groupby('year')['median'].mean().reset_index()\n",
    "df_std.plot(x='year', y='median', ax=ax)\n",
    "\n",
    "ax=axs[2]\n",
    "df_std = df5.groupby('year')['stdev'].mean().reset_index()\n",
    "df_std.plot(x='year', y='stdev', ax=ax)"
   ]
  },
  {
   "cell_type": "code",
   "execution_count": null,
   "id": "2f2eca62-c9be-4486-bb22-b9c611fc4b0e",
   "metadata": {},
   "outputs": [],
   "source": [
    "# Create a dictionary to map each region to its continent\n",
    "# Mapping regions to continents\n",
    "continent_colors = {\n",
    "    'Asia': '#D55E00',      # Vermilion\n",
    "    'Africa': '#0072B2',    # Blue\n",
    "    'Europe': '#009E73',    # Green\n",
    "    'America': '#F0E442',   # Yellow\n",
    "    'Oceania': '#CC79A7'    # Reddish-purple\n",
    "}\n",
    "\n",
    "\n",
    "region_to_continent = {'Central Asia': 'Asia', 'Eastern Africa': 'Africa','Eastern Asia': 'Asia','Eastern Europe': 'Europe',\n",
    "                        'Middle Africa': 'Africa', 'Northern Africa': 'Africa', 'Northern America': 'America',\n",
    "                        'Northern Europe': 'Europe', 'Oceania': 'Oceania', 'South America': 'America', 'South-Eastern Asia': 'Asia',\n",
    "                        'Southern Africa': 'Africa', 'Southern Asia': 'Asia', 'Southern Europe': 'Europe', 'Western Africa': 'Africa',\n",
    "                        'Western Asia': 'Asia', 'Western Europe': 'Europe'}\n",
    "\n",
    "colors = {\n",
    "    'South-Eastern Asia': 'darkred',\n",
    "    'Middle Africa': 'darkred',\n",
    "    'South America': 'darkred',\n",
    "    'Southern Europe': 'navy',\n",
    "    'Western Europe': 'navy',\n",
    "    'Southern Asia': 'navy'\n",
    "}\n",
    "\n",
    "linestyles = {\n",
    "    'South-Eastern Asia': '-',\n",
    "    'Middle Africa': '--',\n",
    "    'South America': ':',\n",
    "    'Southern Europe': '-',\n",
    "    'Western Europe': '--',\n",
    "    'Southern Asia': ':'\n",
    "}\n",
    "\n"
   ]
  },
  {
   "cell_type": "code",
   "execution_count": null,
   "id": "76d9bfe4-481a-41e8-b8f3-8e514625730c",
   "metadata": {},
   "outputs": [],
   "source": [
    "sel_regions1 = ['South-Eastern Asia', 'Middle Africa', 'South America']\n",
    "sel_regions2 = ['Southern Europe', 'Western Europe', 'Southern Asia']\n",
    "\n",
    "fig, axs = plt.subplots(2,1, figsize=(9, 8))\n",
    "\n",
    "ax=axs[0]\n",
    "df5_ = returnRelChange(df5, 'mean')\n",
    "df5_ = df5_.sort_values(by='relative_change').reset_index(drop=True)\n",
    "colors = df5_['region'].map(region_to_continent).map(continent_colors)\n",
    "\n",
    "ax = set_font(ax, 12)\n",
    "ax.bar(df5_['region'], df5_['relative_change'], color=colors)\n",
    "# Adding labels and title\n",
    "ax.set_xlabel(' ')\n",
    "ax.set_ylabel('FHN [%]', size=15)\n",
    "#ax.set_title('Forest Human Nexus change', size=16)\n",
    "plt.grid(axis='y')\n",
    "ax.spines['right'].set_visible(False)\n",
    "ax.spines['top'].set_visible(False)\n",
    "# Creating legend patches\n",
    "patches = [mpatches.Patch(color=color, label=continent) for continent, color in continent_colors.items()]\n",
    "ax.set_xticklabels(df5_['region'], rotation=90, ha='right')\n",
    "ax.legend(handles=patches, bbox_to_anchor=(1.05, 1), loc='upper left', borderaxespad=0., fontsize=12)\n",
    "\n",
    "\n",
    "ax=axs[1]\n",
    "ax = set_font(ax, 12)\n",
    "\n",
    "\n",
    "# Plot each region individually with custom colors and linestyles\n",
    "for region in sel_regions1:\n",
    "    region_data = df5[df5['region'] == region]\n",
    "    ax.plot(region_data['year'], region_data['mean'], \n",
    "            label=region, color='darkred', linestyle=linestyles[region])\n",
    "\n",
    "dfmean = df5.groupby('year')['mean'].mean().reset_index()\n",
    "dfmean.plot(x='year', y='mean', ax=ax, color='gray', lw=4, alpha=0.65, label='Global average')\n",
    "\n",
    "for region in sel_regions2:\n",
    "    region_data = df5[df5['region'] == region]\n",
    "    ax.plot(region_data['year'], region_data['mean'], \n",
    "            label=region, color='navy', linestyle=linestyles[region])\n",
    "\n",
    "# Customize legend\n",
    "ax.legend(bbox_to_anchor=(1.05, 1), loc='upper left', fontsize=12)\n",
    "ax.spines['right'].set_visible(False)\n",
    "ax.spines['top'].set_visible(False)\n",
    "\n",
    "# Add labels and title if necessary\n",
    "ax.set_xlabel('Year', size=15)\n",
    "ax.set_ylabel('FHN', size=15)\n",
    "#ax.set_title('Temporal value of FHN', size=16)\n",
    "\n",
    "ax.set_ylim([0.1, 0.6])\n",
    "\n",
    "fig.tight_layout()"
   ]
  },
  {
   "cell_type": "code",
   "execution_count": null,
   "id": "524cc521-ffb9-454a-b06c-e095ea02a07a",
   "metadata": {},
   "outputs": [],
   "source": [
    "fig.savefig(\"../Figures/FHN_temporal.pdf\", dpi=300, bbox_inches = 'tight')"
   ]
  },
  {
   "cell_type": "code",
   "execution_count": null,
   "id": "0b67fbd4-e177-4378-bdb2-f60afef22ef0",
   "metadata": {},
   "outputs": [],
   "source": [
    "df = df5.copy()\n",
    "region = 'Southern Europe'\n",
    "df_ = df[df['region']==region]\n",
    "f,axs=plt.subplots(1,2, figsize=(8, 3))\n",
    "ax=axs[0]\n",
    "year = 1975\n",
    "df1 = df_[df_['year']==year].reset_index(drop=True)\n",
    "ax.hist(df1['all_vals'], color='navy', width=0.075)\n",
    "# Adding labels and title\n",
    "ax.set_xlabel('FHN')\n",
    "ax.set_ylabel('Frequency')\n",
    "m = np.mean(df1['all_vals'][0])\n",
    "std = np.std(df1['all_vals'][0])\n",
    "med = np.median(df1['all_vals'][0])\n",
    "ax.set_title(f'Distribution {year} \\n Mean={m:.2g}, Median={med:.2g}, Std={std:.2g}', size=12)\n",
    "ax.spines['right'].set_visible(False)\n",
    "ax.spines['top'].set_visible(False)\n",
    "\n",
    "ax=axs[1]\n",
    "year = 2020\n",
    "df1 = df_[df_['year']==year].reset_index(drop=True)\n",
    "ax.hist(df1['all_vals'], color='navy', width=0.075)\n",
    "# Adding labels and title\n",
    "ax.set_xlabel('FHN')\n",
    "ax.set_ylabel('Frequency')\n",
    "m = np.mean(df1['all_vals'][0])\n",
    "std = np.std(df1['all_vals'][0])\n",
    "med = np.median(df1['all_vals'][0])\n",
    "ax.set_title(f'Distribution {year} \\n Mean={m:.2g}, Median={med:.2g}, Std={std:.2g}', size=12)\n",
    "ax.spines['right'].set_visible(False)\n",
    "ax.spines['top'].set_visible(False)\n",
    "f.tight_layout()"
   ]
  },
  {
   "cell_type": "code",
   "execution_count": null,
   "id": "b6dca640-29c3-4af8-9921-f3e59449cdf6",
   "metadata": {},
   "outputs": [],
   "source": [
    "f.savefig(\"../Figures/southeurope.pdf\", dpi=300, bbox_inches = 'tight')"
   ]
  },
  {
   "cell_type": "code",
   "execution_count": null,
   "id": "316866c0-09f2-470f-9cc7-8874c9ff8522",
   "metadata": {},
   "outputs": [],
   "source": [
    "df = df5.copy()\n",
    "region = 'South-Eastern Asia'\n",
    "df_ = df[df['region']==region]\n",
    "f,axs=plt.subplots(1,2, figsize=(8, 3))\n",
    "ax=axs[0]\n",
    "year = 1975\n",
    "df1 = df_[df_['year']==year].reset_index(drop=True)\n",
    "ax.hist(df1['all_vals'], color='darkred', width=0.075)\n",
    "# Adding labels and title\n",
    "ax.set_xlabel('FHN')\n",
    "ax.set_ylabel('Frequency')\n",
    "m = np.mean(df1['all_vals'][0])\n",
    "std = np.std(df1['all_vals'][0])\n",
    "med = np.median(df1['all_vals'][0])\n",
    "ax.set_title(f'Distribution {year} \\n Mean={m:.2g}, Median={med:.2g}, Std={std:.2g}', size=12)\n",
    "ax.spines['right'].set_visible(False)\n",
    "ax.spines['top'].set_visible(False)\n",
    "\n",
    "ax=axs[1]\n",
    "year = 2020\n",
    "df1 = df_[df_['year']==year].reset_index(drop=True)\n",
    "ax.hist(df1['all_vals'], color='darkred', width=0.075)\n",
    "# Adding labels and title\n",
    "ax.set_xlabel('FHN')\n",
    "ax.set_ylabel('Frequency')\n",
    "m = np.mean(df1['all_vals'][0])\n",
    "std = np.std(df1['all_vals'][0])\n",
    "med = np.median(df1['all_vals'][0])\n",
    "ax.set_title(f'Distribution {year} \\n Mean={m:.2g}, Median={med:.2g}, Std={std:.2g}', size=12)\n",
    "ax.spines['right'].set_visible(False)\n",
    "ax.spines['top'].set_visible(False)\n",
    "f.tight_layout()"
   ]
  },
  {
   "cell_type": "code",
   "execution_count": null,
   "id": "4b77a2c8-d196-46f7-8acb-fdcab53dbcf0",
   "metadata": {},
   "outputs": [],
   "source": [
    "f.savefig(\"../Figures/southeastasia.pdf\", dpi=300, bbox_inches = 'tight')"
   ]
  },
  {
   "cell_type": "code",
   "execution_count": null,
   "id": "0319c588-e0de-4be4-9501-63936be84686",
   "metadata": {},
   "outputs": [],
   "source": [
    "def shift_function(data1, data2, quantiles=None):\n",
    "    \"\"\"\n",
    "    Compute the shift function between two datasets.\n",
    "    \n",
    "    Parameters:\n",
    "    - data1: Array-like, the first dataset.\n",
    "    - data2: Array-like, the second dataset.\n",
    "    - quantiles: Array-like, specific quantiles to evaluate. If None, default is 100 quantiles.\n",
    "\n",
    "    Returns:\n",
    "    - quantiles: Array of quantiles.\n",
    "    - shifts: The difference between the quantiles of data2 and data1.\n",
    "    \"\"\"\n",
    "    # Sort the data\n",
    "    data1 = np.sort(data1)\n",
    "    data2 = np.sort(data2)\n",
    "\n",
    "    # Define quantiles if not provided\n",
    "    if quantiles is None:\n",
    "        quantiles = np.linspace(0.01, 0.99, 100)\n",
    "    \n",
    "    # Compute quantiles for both datasets\n",
    "    q1 = np.quantile(data1, quantiles)\n",
    "    q2 = np.quantile(data2, quantiles)\n",
    "    \n",
    "    # Compute the shift\n",
    "    shifts = q2 - q1\n",
    "    \n",
    "    return quantiles, shifts"
   ]
  },
  {
   "cell_type": "code",
   "execution_count": null,
   "id": "1510a34b-5a7d-44c7-af9c-ce5c01e73470",
   "metadata": {},
   "outputs": [],
   "source": [
    "region = 'South-Eastern Asia'\n",
    "df_ = df[df['region']==region]\n",
    "year = 1975\n",
    "df1 = df_[df_['year']==year].reset_index(drop=True)\n",
    "data1 = df1['all_vals'][0]\n",
    "\n",
    "year = 2020\n",
    "df1 = df_[df_['year']==year].reset_index(drop=True)\n",
    "data2 = df1['all_vals'][0]\n",
    "# Compute the shift function\n",
    "quantiles, shifts = shift_function(data1, data2)\n",
    "\n",
    "print(np.trapz(shifts, quantiles))\n",
    "# Plotting the shift function\n",
    "f,ax = plt.subplots(figsize=(5, 3))\n",
    "plt.plot(quantiles, shifts, marker='o')\n",
    "plt.axhline(0, color='grey', linestyle='--')\n",
    "plt.xlabel('Quantiles')\n",
    "plt.ylabel('Shift (1975 - 2020)')\n",
    "plt.title(f'{region}')\n",
    "plt.ylim([-0.33, 0.33])\n",
    "plt.show()"
   ]
  },
  {
   "cell_type": "code",
   "execution_count": null,
   "id": "6611e2c2-c276-432a-8c15-159826025c01",
   "metadata": {},
   "outputs": [],
   "source": [
    "f.savefig(\"../Figures/southeastasia_shift.pdf\", dpi=300, bbox_inches = 'tight')"
   ]
  },
  {
   "cell_type": "code",
   "execution_count": null,
   "id": "d1253b76-167d-4562-b274-9a6d1c675754",
   "metadata": {},
   "outputs": [],
   "source": [
    "region = 'Southern Europe'\n",
    "df_ = df[df['region']==region]\n",
    "year = 1975\n",
    "df1 = df_[df_['year']==year].reset_index(drop=True)\n",
    "data1 = df1['all_vals'][0]\n",
    "\n",
    "year = 2020\n",
    "df1 = df_[df_['year']==year].reset_index(drop=True)\n",
    "data2 = df1['all_vals'][0]\n",
    "# Compute the shift function\n",
    "quantiles, shifts = shift_function(data1, data2)\n",
    "\n",
    "print(np.trapz(shifts, quantiles))\n",
    "# Plotting the shift function\n",
    "f,ax = plt.subplots(figsize=(5, 3))\n",
    "plt.plot(quantiles, shifts, marker='o')\n",
    "plt.axhline(0, color='grey', linestyle='--')\n",
    "plt.xlabel('Quantiles')\n",
    "plt.ylabel('Shift (1975 - 2020)')\n",
    "plt.title(f'{region}')\n",
    "plt.ylim([-0.33, 0.33])\n",
    "plt.show()"
   ]
  },
  {
   "cell_type": "code",
   "execution_count": null,
   "id": "cbc279c6-8df7-4255-9581-299342154bd4",
   "metadata": {},
   "outputs": [],
   "source": [
    "f.savefig(\"../Figures/southerneurope_shift.pdf\", dpi=300, bbox_inches = 'tight')"
   ]
  },
  {
   "cell_type": "code",
   "execution_count": null,
   "id": "5f0e8600-2111-4409-8855-e7d8545554e2",
   "metadata": {},
   "outputs": [],
   "source": [
    "REGIONS = gdf1['custom_reg'].unique()\n",
    "df = df5.copy()\n",
    "A = []\n",
    "for region in REGIONS:\n",
    "    df_ = df[df['region']==region]\n",
    "    year = 1975\n",
    "    df1 = df_[df_['year']==year].reset_index(drop=True)\n",
    "    data1 = df1['all_vals'][0]\n",
    "    \n",
    "    year = 2020\n",
    "    df1 = df_[df_['year']==year].reset_index(drop=True)\n",
    "    data2 = df1['all_vals'][0]\n",
    "    \n",
    "    # Compute the shift function\n",
    "    quantiles, shifts = shift_function(data1, data2)\n",
    "    A.append(np.trapz(shifts, quantiles))"
   ]
  },
  {
   "cell_type": "code",
   "execution_count": null,
   "id": "ee56efa9-0e1f-499f-8a2f-1cd4104436c3",
   "metadata": {},
   "outputs": [],
   "source": [
    "dfs = pd.DataFrame()\n",
    "dfs['region'] = REGIONS\n",
    "dfs['shift'] = A"
   ]
  },
  {
   "cell_type": "code",
   "execution_count": null,
   "id": "2b429a78-89b3-45eb-9beb-e76db01b7731",
   "metadata": {},
   "outputs": [],
   "source": [
    "fig, ax = plt.subplots(figsize=(7, 3))\n",
    "\n",
    "dfs = dfs.sort_values(by='shift').reset_index(drop=True)\n",
    "colors = dfs['region'].map(region_to_continent).map(continent_colors)\n",
    "\n",
    "ax = set_font(ax, 12)\n",
    "ax.bar(dfs['region'], dfs['shift'], color=colors)\n",
    "# Adding labels and title\n",
    "ax.set_xlabel(' ')\n",
    "ax.set_ylabel('FHN Shift', size=15)\n",
    "#ax.set_title('Forest Human Nexus change', size=16)\n",
    "plt.grid(axis='y')\n",
    "ax.spines['right'].set_visible(False)\n",
    "ax.spines['top'].set_visible(False)\n",
    "# Creating legend patches\n",
    "patches = [mpatches.Patch(color=color, label=continent) for continent, color in continent_colors.items()]\n",
    "ax.set_xticklabels(dfs['region'], rotation=90, ha='right')\n",
    "ax.legend(handles=patches, bbox_to_anchor=(1.05, 1), loc='upper left', borderaxespad=0., fontsize=12)\n"
   ]
  },
  {
   "cell_type": "code",
   "execution_count": null,
   "id": "7467281b-b509-427e-91e9-ad3aa238b120",
   "metadata": {},
   "outputs": [],
   "source": [
    "f.savefig(\"../Figures/worldshift.pdf\", dpi=300, bbox_inches = 'tight')"
   ]
  },
  {
   "cell_type": "code",
   "execution_count": null,
   "id": "fa0b66e7-7b52-48be-9068-5df3d7f8cdc5",
   "metadata": {},
   "outputs": [],
   "source": [
    "fig, ax = plt.subplots(figsize=(6, 6))\n",
    "ax = set_font(ax, 12)\n",
    "plt.scatter(dfss['relative_change'], dfss['shift'])\n",
    "ax.set_ylabel('FHN Shift', size=15)\n",
    "ax.set_xlabel('FHN Relative Change', size=15)\n",
    "#ax.set_title('Forest Human Nexus change', size=16)\n",
    "ax.spines['right'].set_visible(False)\n",
    "ax.spines['top'].set_visible(False)\n"
   ]
  },
  {
   "cell_type": "code",
   "execution_count": null,
   "id": "e891bd39-f9a8-4a82-b530-2e1020caca65",
   "metadata": {},
   "outputs": [],
   "source": [
    "f.savefig(\"../Figures/shift_change.pdf\", dpi=300, bbox_inches = 'tight')"
   ]
  },
  {
   "cell_type": "code",
   "execution_count": null,
   "id": "ad5aa94c-2417-4043-b590-6dc035efff00",
   "metadata": {},
   "outputs": [],
   "source": []
  }
 ],
 "metadata": {
  "kernelspec": {
   "display_name": "Python 3 (ipykernel)",
   "language": "python",
   "name": "python3"
  },
  "language_info": {
   "codemirror_mode": {
    "name": "ipython",
    "version": 3
   },
   "file_extension": ".py",
   "mimetype": "text/x-python",
   "name": "python",
   "nbconvert_exporter": "python",
   "pygments_lexer": "ipython3",
   "version": "3.10.12"
  }
 },
 "nbformat": 4,
 "nbformat_minor": 5
}
